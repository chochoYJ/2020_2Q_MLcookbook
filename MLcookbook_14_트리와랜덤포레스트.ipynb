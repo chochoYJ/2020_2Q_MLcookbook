{
 "cells": [
  {
   "cell_type": "markdown",
   "metadata": {},
   "source": [
    "## 트리와 랜덤 포레스트\n",
    "0. 소개 \n",
    "1. 결정 트리 분류기\n",
    "2. 결정 트리 회귀 훈련하기\n",
    "3. 결정 트리 모델 시각화하기\n",
    "4. 랜덤 포레스트 분류기 훈련하기\n",
    "5. 랜덤 포레스트 회귀 훈련하기\n",
    "6. 랜덤 포레스트에서 중요한 특성 구분하기\n",
    "7. 랜덤 포레스트에서 중요한 특성 선택하기\n",
    "8. 불균형한 클래스 다루기\n",
    "9. 트리 크기 제어하기\n",
    "10. 부스팅을 사용하여 성능 향상하기\n",
    "11. OOB 데이터로 랜덤 포레스트 평가하기\n",
    " "
   ]
  },
  {
   "cell_type": "code",
   "execution_count": 4,
   "metadata": {},
   "outputs": [],
   "source": [
    "from sklearn.ensemble import RandomForestClassifier\n",
    "from sklearn import datasets"
   ]
  },
  {
   "cell_type": "code",
   "execution_count": 5,
   "metadata": {},
   "outputs": [
    {
     "name": "stderr",
     "output_type": "stream",
     "text": [
      "/Users/yeonjin/opt/anaconda3/lib/python3.7/site-packages/sklearn/ensemble/forest.py:245: FutureWarning: The default value of n_estimators will change from 10 in version 0.20 to 100 in 0.22.\n",
      "  \"10 in version 0.20 to 100 in 0.22.\", FutureWarning)\n"
     ]
    }
   ],
   "source": [
    "iris = datasets.load_iris()\n",
    "features = iris.data\n",
    "target = iris.target\n",
    "\n",
    "randomforest = RandomForestClassifier(random_state = 0 ,  n_jobs = -1 )\n",
    "\n",
    "model = randomforest.fit(features, target)"
   ]
  },
  {
   "cell_type": "code",
   "execution_count": 6,
   "metadata": {},
   "outputs": [
    {
     "data": {
      "text/plain": [
       "array([1])"
      ]
     },
     "execution_count": 6,
     "metadata": {},
     "output_type": "execute_result"
    }
   ],
   "source": [
    "observation = [[5,4,3,2]]\n",
    "model.predict(observation)"
   ]
  },
  {
   "cell_type": "code",
   "execution_count": 8,
   "metadata": {
    "scrolled": true
   },
   "outputs": [],
   "source": [
    "# 분류 작업에서 관련없는 특성 삭제 : features.astype(int) # 범주형 데이터 "
   ]
  },
  {
   "cell_type": "markdown",
   "metadata": {},
   "source": [
    "### 분할 품질 측정\n",
    "* max_features : 각 노드에서 사용할 최대 특성 개수\n",
    "* bootstrap : 중복을 허용한 샘플링 여부를 지정합니다. \n",
    "* n_estimators : 사용할 결정 트리 개수 \n",
    "* n_jobs : -1 "
   ]
  },
  {
   "cell_type": "markdown",
   "metadata": {},
   "source": [
    "### 엔트로피 "
   ]
  },
  {
   "cell_type": "code",
   "execution_count": 7,
   "metadata": {},
   "outputs": [
    {
     "name": "stderr",
     "output_type": "stream",
     "text": [
      "/Users/yeonjin/opt/anaconda3/lib/python3.7/site-packages/sklearn/ensemble/forest.py:245: FutureWarning: The default value of n_estimators will change from 10 in version 0.20 to 100 in 0.22.\n",
      "  \"10 in version 0.20 to 100 in 0.22.\", FutureWarning)\n"
     ]
    }
   ],
   "source": [
    "randomforest_entropy = RandomForestClassifier( criterion = 'entropy', random_state = 0 )\n",
    "model_entropy = randomforest_entropy.fit(features, target)"
   ]
  },
  {
   "cell_type": "code",
   "execution_count": 8,
   "metadata": {},
   "outputs": [],
   "source": [
    "from sklearn.ensemble import RandomForestRegressor\n",
    "from sklearn import datasets\n",
    "\n",
    "boston = datasets.load_boston()\n",
    "features = boston.data[:, 0:2]\n",
    "target = boston.target"
   ]
  },
  {
   "cell_type": "code",
   "execution_count": 9,
   "metadata": {},
   "outputs": [
    {
     "name": "stderr",
     "output_type": "stream",
     "text": [
      "/Users/yeonjin/opt/anaconda3/lib/python3.7/site-packages/sklearn/ensemble/forest.py:245: FutureWarning: The default value of n_estimators will change from 10 in version 0.20 to 100 in 0.22.\n",
      "  \"10 in version 0.20 to 100 in 0.22.\", FutureWarning)\n"
     ]
    }
   ],
   "source": [
    "randomforest = RandomForestRegressor(random_state = 0, n_jobs = -1)\n",
    "model = randomforest.fit(features, target)"
   ]
  },
  {
   "cell_type": "markdown",
   "metadata": {},
   "source": [
    "## "
   ]
  },
  {
   "cell_type": "code",
   "execution_count": 10,
   "metadata": {},
   "outputs": [],
   "source": [
    "import numpy as np\n",
    "import matplotlib.pyplot as plt\n",
    "from sklearn.ensemble import RandomForestClassifier\n",
    "from sklearn import datasets "
   ]
  },
  {
   "cell_type": "code",
   "execution_count": 13,
   "metadata": {},
   "outputs": [],
   "source": [
    "iris = datasets.load_iris()\n",
    "features = iris.data\n",
    "target = iris.target"
   ]
  },
  {
   "cell_type": "code",
   "execution_count": 16,
   "metadata": {},
   "outputs": [
    {
     "name": "stderr",
     "output_type": "stream",
     "text": [
      "/Users/yeonjin/opt/anaconda3/lib/python3.7/site-packages/sklearn/ensemble/forest.py:245: FutureWarning: The default value of n_estimators will change from 10 in version 0.20 to 100 in 0.22.\n",
      "  \"10 in version 0.20 to 100 in 0.22.\", FutureWarning)\n"
     ]
    },
    {
     "data": {
      "image/png": "[encoded data removed]",
      "text/plain": [
       "<Figure size 432x288 with 1 Axes>"
      ]
     },
     "metadata": {
      "needs_background": "light"
     },
     "output_type": "display_data"
    }
   ],
   "source": [
    "randomforest = RandomForestClassifier( random_state = 0 , n_jobs = -1 )\n",
    "\n",
    "model = randomforest.fit( features , target )\n",
    "\n",
    "importances = model.feature_importances_\n",
    "\n",
    "# 정렬 : 내림차순\n",
    "indices = np.argsort(importances)[::-1]\n",
    "names = [iris.feature_names[i] for i in indices]\n",
    "\n",
    "# 그래프 만들기\n",
    "plt.figure()\n",
    "plt.title('Feature Importance')\n",
    "plt.bar(range(features.shape[1]), importances[indices])\n",
    "\n",
    "plt.xticks(range(features.shape[1]), names, rotation = 90)\n",
    "\n",
    "plt.show()"
   ]
  },
  {
   "cell_type": "code",
   "execution_count": 21,
   "metadata": {},
   "outputs": [
    {
     "name": "stderr",
     "output_type": "stream",
     "text": [
      "/Users/yeonjin/opt/anaconda3/lib/python3.7/site-packages/sklearn/ensemble/forest.py:245: FutureWarning: The default value of n_estimators will change from 10 in version 0.20 to 100 in 0.22.\n",
      "  \"10 in version 0.20 to 100 in 0.22.\", FutureWarning)\n"
     ]
    }
   ],
   "source": [
    "모델 중요도 해석할 때 유의해야 하는 것\n",
    "* 순서 없는 이진 튻성으로 변환하므로, 특성 중요도가 낮아질 수 있음. -> 중요한 특성이 중요해보이지 않을 수 있음.\n",
    "* 상관관계가 높은 특성일 경우 한 특성이 중요하면 다른 ㅈ특성은 중요하지 않게 나올 수 있음  \n",
    "  \n",
    "단일 트리"
   ]
  },
  {
   "cell_type": "code",
   "execution_count": null,
   "metadata": {},
   "outputs": [],
   "source": []
  }
 ],
 "metadata": {
  "kernelspec": {
   "display_name": "Python 3",
   "language": "python",
   "name": "python3"
  },
  "language_info": {
   "codemirror_mode": {
    "name": "ipython",
    "version": 3
   },
   "file_extension": ".py",
   "mimetype": "text/x-python",
   "name": "python",
   "nbconvert_exporter": "python",
   "pygments_lexer": "ipython3",
   "version": "3.7.4"
  }
 },
 "nbformat": 4,
 "nbformat_minor": 2
}
